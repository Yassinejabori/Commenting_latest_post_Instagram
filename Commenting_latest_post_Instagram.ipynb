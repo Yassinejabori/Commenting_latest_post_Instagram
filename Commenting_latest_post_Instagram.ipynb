{
 "cells": [
  {
   "cell_type": "markdown",
   "metadata": {},
   "source": [
    "# Author : YASSINE JABORI"
   ]
  },
  {
   "cell_type": "markdown",
   "metadata": {},
   "source": [
    "Commenting on the latest posts on instagram could be a powerful way to grow instagram accounts, because when we comment on our competitor's posts, we can get the attention of their followers, then they will check out our account and there is a high probability that new people will follow us.\n",
    "\n",
    "the bot will check the concurrent accounts every hour and comment with the comments you give as input"
   ]
  },
  {
   "cell_type": "markdown",
   "metadata": {},
   "source": [
    "# STEP 1: WebDriver & Module Imports"
   ]
  },
  {
   "cell_type": "code",
   "execution_count": 26,
   "metadata": {},
   "outputs": [],
   "source": [
    "#imports here\n",
    "from selenium import webdriver\n",
    "from selenium.webdriver.common.keys import Keys\n",
    "from selenium.webdriver.support import expected_conditions as EC\n",
    "from selenium.webdriver.common.by import By\n",
    "from selenium.webdriver.support.wait import WebDriverWait\n",
    "from webdriver_manager.chrome import ChromeDriverManager\n",
    "import time\n",
    "import os\n",
    "import wget"
   ]
  },
  {
   "cell_type": "markdown",
   "metadata": {},
   "source": [
    "# STEP 2: Log In"
   ]
  },
  {
   "cell_type": "code",
   "execution_count": 124,
   "metadata": {},
   "outputs": [
    {
     "name": "stderr",
     "output_type": "stream",
     "text": [
      "\n",
      "\n",
      "====== WebDriver manager ======\n",
      "Current google-chrome version is 93.0.4577\n",
      "Get LATEST driver version for 93.0.4577\n",
      "Driver [C:\\Users\\yassine\\.wdm\\drivers\\chromedriver\\win32\\93.0.4577.63\\chromedriver.exe] found in cache\n"
     ]
    }
   ],
   "source": [
    "#specify the path to chromedriver.exe (download and save on your computer)\n",
    "\n",
    "driver = webdriver.Chrome(ChromeDriverManager().install())\n",
    "\n",
    "#open the webpage\n",
    "driver.get(\"http://www.instagram.com\")\n",
    "\n",
    "#target username\n",
    "username = WebDriverWait(driver, 10).until(EC.element_to_be_clickable((By.CSS_SELECTOR, \"input[name='username']\")))\n",
    "password = WebDriverWait(driver, 10).until(EC.element_to_be_clickable((By.CSS_SELECTOR, \"input[name='password']\")))\n",
    "\n",
    "#enter username and password\n",
    "username.clear()\n",
    "username.send_keys(\"username\")\n",
    "password.clear()\n",
    "password.send_keys(\"password\")\n",
    "\n",
    "#target the login button and click it\n",
    "button = WebDriverWait(driver, 2).until(EC.element_to_be_clickable((By.CSS_SELECTOR, \"button[type='submit']\"))).click()\n",
    "\n",
    "#We are logged in!"
   ]
  },
  {
   "cell_type": "markdown",
   "metadata": {},
   "source": [
    "# STEP 3: Handle Alerts\n",
    "\n",
    "you might have another alerts you can handle them using the same process"
   ]
  },
  {
   "cell_type": "code",
   "execution_count": 28,
   "metadata": {},
   "outputs": [],
   "source": [
    "alert1 = WebDriverWait(driver, 2).until(EC.element_to_be_clickable((By.CSS_SELECTOR, \"button[class='sqdOP yWX7d    y3zKF     ']\"))).click()\n",
    "time.sleep(5)\n",
    "alert2 = WebDriverWait(driver, 2).until(EC.element_to_be_clickable((By.CSS_SELECTOR, \"button[class='aOOlW   HoLwm ']\"))).click()\n",
    "time.sleep(5)"
   ]
  },
  {
   "cell_type": "markdown",
   "metadata": {},
   "source": [
    "# STEP 4: Select Targets\n",
    "# STEP 5: Scroll Multiple Times\n",
    "# STEP 6: Target Links to Images\n",
    "# STEP 7: Loop over links and comment"
   ]
  },
  {
   "cell_type": "code",
   "execution_count": null,
   "metadata": {},
   "outputs": [],
   "source": [
    "################################################# Select targets ###################################################\n",
    "list_accts=[\"@account1\",\"@account2\"]\n",
    "#posts=[]\n",
    "newest=[]\n",
    "links = []\n",
    "b=0\n",
    "\n",
    "########################################## loop each account in the target list ########################################\n",
    "for acc in list_accts:\n",
    "    \n",
    "    driver.get(\"http://www.instagram.com\")\n",
    "    #target the search input field\n",
    "    searchbox = WebDriverWait(driver, 10).until(EC.element_to_be_clickable((By.XPATH, \"//input[@placeholder='Rechercher']\")))\n",
    "    searchbox.clear()\n",
    "\n",
    "    #search for the hashtag cat\n",
    "    searchbox.send_keys(acc)\n",
    "\n",
    "    #FIXING THE DOUBLE ENTER\n",
    "    time.sleep(5) # Wait for 5 seconds\n",
    "    my_link = WebDriverWait(driver, 10).until(EC.element_to_be_clickable((By.XPATH, \"//a[contains(@href, '/\" + acc[1:] + \"/')]\")))\n",
    "    my_link.click()\n",
    "    time.sleep(5) \n",
    "    \n",
    "    ################################## Scroll Multiple Times ####################################################\n",
    "    n_scrolls = 1\n",
    "    for i in range(1, n_scrolls):\n",
    "        driver.execute_script(\"window.scrollTo(0, document.body.scrollHeight);\")\n",
    "        time.sleep(5)\n",
    "        \n",
    "    anchors = driver.find_elements_by_tag_name(\"a\")\n",
    "    anchors = [a.get_attribute(\"href\") for a in anchors]\n",
    "    anchors = [a for a in anchors if a.startswith(\"https://www.instagram.com/p/\")]\n",
    "    \n",
    "    ######################################### get new links of last posts ############################################\n",
    "    #posts.append(anchors[:3])\n",
    "    newest=anchors[:3]\n",
    "    \n",
    "    print(acc + \" : checking !!!\")\n",
    "    \n",
    "    ##################################### check if there are new posts ###############################################\n",
    "    change = 0\n",
    "    for a in range(3):\n",
    "        if newest[0] == posts[b][a]:\n",
    "            break\n",
    "        elif newest[0] != posts[b][a]:\n",
    "            print(posts[b][a])\n",
    "            change = change + 1\n",
    "            print(change)\n",
    "            links.append(posts[b][a])\n",
    "        else :\n",
    "            break\n",
    "            \n",
    "    \n",
    "    posts[b] = newest\n",
    "    b = b + 1\n",
    "    if change == 0:\n",
    "        print(\" no post added\")\n",
    "    else:\n",
    "        print(str(change) + \" post(s) added\")\n",
    "    \n",
    "print(\"checking done\")\n",
    "\n",
    "########## if there is new posts we save the link of the post in order to comment it later ######################\n",
    "\n",
    "################################################ Commenting #################################################\n",
    "greeting = [\"Hi\", \"Hello\", \"Heeey\", \"Greetings\", \"Hey\"]\n",
    "for a in links: \n",
    "    driver.get(a)\n",
    "    time.sleep(5)\n",
    "\n",
    "    random_idx = random.randint(0, (len(greeting)-1))\n",
    "    my_comment = greeting[random_idx] + \" If you are Interested by content like this, Please check out my account!!\"\n",
    "    \n",
    "    form = driver.find_element_by_tag_name(\"form\").click()\n",
    "    text_area = driver.find_element_by_tag_name(\"textarea\")\n",
    "    text_area.send_keys(my_comment)\n",
    "    submit = WebDriverWait(driver, 10).until(EC.element_to_be_clickable((By.CSS_SELECTOR, \"button[type='submit']\"))).click()\n",
    "    \n",
    "    time.sleep(5)\n",
    "\n",
    "print(str(len(links))+\" post(s) commented successfully\")\n",
    "\n",
    "print(\"Commenting done\")"
   ]
  },
  {
   "cell_type": "code",
   "execution_count": null,
   "metadata": {},
   "outputs": [],
   "source": []
  }
 ],
 "metadata": {
  "kernelspec": {
   "display_name": "Python 3",
   "language": "python",
   "name": "python3"
  },
  "language_info": {
   "codemirror_mode": {
    "name": "ipython",
    "version": 3
   },
   "file_extension": ".py",
   "mimetype": "text/x-python",
   "name": "python",
   "nbconvert_exporter": "python",
   "pygments_lexer": "ipython3",
   "version": "3.8.8"
  }
 },
 "nbformat": 4,
 "nbformat_minor": 2
}
